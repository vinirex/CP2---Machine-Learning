{
 "cells": [
  {
   "cell_type": "markdown",
   "id": "9d6a9cec",
   "metadata": {},
   "source": [
    "## CP02 - Regressão Logistica | Reconhecimento de Gênero por voz"
   ]
  },
  {
   "cell_type": "markdown",
   "id": "e89745ed",
   "metadata": {},
   "source": [
    "### Integrantes: \n",
    "- Diogo Julio - RM553837\n",
    "- Vinicius Silva - RM553240\n",
    "- Victor Didoff - RM552965\n",
    "- Matheus Zottis - RM94119\n",
    "- Jonata Rafael - RM552939\n"
   ]
  },
  {
   "cell_type": "code",
   "execution_count": null,
   "id": "fc55c97b",
   "metadata": {},
   "outputs": [],
   "source": [
    "\n",
    "import numpy as np\n",
    "from sklearn.linear_model import LogisticRegression\n",
    "import pandas as pd \n",
    "import matplotlib.pyplot as plt\n",
    "from sklearn.model_selection import GridSearchCV\n",
    "\n",
    "data_url = \"https://raw.githubusercontent.com/primaryobjects/voice-gender/master/voice.csv\"\n",
    "\n",
    "\n"
   ]
  },
  {
   "cell_type": "code",
   "execution_count": null,
   "id": "3e5e48c8",
   "metadata": {},
   "outputs": [],
   "source": [
    "\n"
   ]
  }
 ],
 "metadata": {
  "kernelspec": {
   "display_name": "anaconda-toolbox",
   "language": "python",
   "name": "python3"
  },
  "language_info": {
   "codemirror_mode": {
    "name": "ipython",
    "version": 3
   },
   "file_extension": ".py",
   "mimetype": "text/x-python",
   "name": "python",
   "nbconvert_exporter": "python",
   "pygments_lexer": "ipython3",
   "version": "3.13.5"
  }
 },
 "nbformat": 4,
 "nbformat_minor": 5
}
