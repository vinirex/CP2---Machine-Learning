{
 "cells": [
  {
   "cell_type": "markdown",
   "id": "9d6a9cec",
   "metadata": {},
   "source": [
    "## CP02 - Regressão Logistica | Reconhecimento de Gênero por voz"
   ]
  },
  {
   "cell_type": "markdown",
   "id": "e89745ed",
   "metadata": {},
   "source": [
    "### Integrantes: \n",
    "- Diogo Julio - RM553837\n",
    "- Vinicius Silva - RM553240\n",
    "- Victor Didoff - RM552965\n",
    "- Matheus Zottis - RM94119\n",
    "- Jonata Rafael - RM552939\n"
   ]
  },
  {
   "cell_type": "code",
   "execution_count": null,
   "id": "fc55c97b",
   "metadata": {},
   "outputs": [],
   "source": [
    "import numpy as np\n",
    "import pandas as pd\n",
    "import matplotlib.pyplot as plt\n",
    "import seaborn as sns\n",
    "from sklearn.model_selection import train_test_split, GridSearchCV, StratifiedKFold\n",
    "from sklearn.preprocessing import StandardScaler\n",
    "from sklearn.linear_model import LogisticRegression\n",
    "from sklearn.metrics import (accuracy_score, precision_score, recall_score, f1_score,\n",
    "                             confusion_matrix, classification_report, roc_curve, auc)\n",
    "RND = 42"
   ]
  },
  {
   "cell_type": "markdown",
   "id": "62d0890f",
   "metadata": {},
   "source": []
  },
  {
   "cell_type": "code",
   "execution_count": 4,
   "id": "3e5e48c8",
   "metadata": {},
   "outputs": [
    {
     "name": "stdout",
     "output_type": "stream",
     "text": [
      "(3168, 20) (3168,)\n"
     ]
    }
   ],
   "source": [
    "data = pd.read_csv(data_url)\n",
    "data['label_num'] = data['label'].map({'male': 0, 'female': 1})\n",
    "data = data.drop(columns=['label'])\n",
    "X = data.drop(columns=['label_num'])\n",
    "y = data['label_num']\n",
    "X = (X - X.min()) / (X.max() - X.min())\n",
    "X = X.values\n",
    "y = y.values\n",
    "print(X.shape, y.shape)\n"
   ]
  }
 ],
 "metadata": {
  "kernelspec": {
   "display_name": "Python 3",
   "language": "python",
   "name": "python3"
  },
  "language_info": {
   "codemirror_mode": {
    "name": "ipython",
    "version": 3
   },
   "file_extension": ".py",
   "mimetype": "text/x-python",
   "name": "python",
   "nbconvert_exporter": "python",
   "pygments_lexer": "ipython3",
   "version": "3.13.0"
  }
 },
 "nbformat": 4,
 "nbformat_minor": 5
}
